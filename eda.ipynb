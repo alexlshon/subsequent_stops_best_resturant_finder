{
 "cells": [
  {
   "cell_type": "code",
   "execution_count": 1,
   "metadata": {},
   "outputs": [],
   "source": [
    "from hungry import queryAPI as q"
   ]
  },
  {
   "cell_type": "code",
   "execution_count": 2,
   "metadata": {},
   "outputs": [],
   "source": [
    "get_all_routes = q.ChicagoBusAPI(\n",
    "    key=\"Y7aDrbMV2FibLTXEZwBCyHugw\",\n",
    "    version=\"v2\",\n",
    "    service=\"getroutes\"\n",
    ")\n",
    "routes = get_all_routes.query()"
   ]
  },
  {
   "cell_type": "code",
   "execution_count": 3,
   "metadata": {},
   "outputs": [],
   "source": [
    "get_route_dir= q.ChicagoBusAPI(\n",
    "    key=\"Y7aDrbMV2FibLTXEZwBCyHugw\",\n",
    "    version=\"v2\",\n",
    "    service=\"getdirections\"\n",
    ")"
   ]
  },
  {
   "cell_type": "code",
   "execution_count": 10,
   "metadata": {
    "scrolled": true
   },
   "outputs": [],
   "source": [
    "bus_routes = {}\n",
    "for route in routes[\"bustime-response\"][\"routes\"]:\n",
    "    bus_route = route\n",
    "    dir_resp = get_route_dir.query(rt=route[\"rt\"])\n",
    "    route_dir = dir_resp[\"bustime-response\"][\"directions\"]\n",
    "    bus_route.update({\n",
    "        \"directions\": route_dir,\n",
    "        \"dir_count\": len(route_dir)\n",
    "    })\n",
    "    bus_routes.update({route[\"rt\"]: bus_route })"
   ]
  },
  {
   "cell_type": "code",
   "execution_count": 15,
   "metadata": {},
   "outputs": [],
   "source": [
    "import json\n",
    "with open(\"./cta_bus_routes.json\",\"w\") as f:\n",
    "    json.dump( bus_routes,f)"
   ]
  },
  {
   "cell_type": "code",
   "execution_count": 22,
   "metadata": {},
   "outputs": [
    {
     "name": "stdout",
     "output_type": "stream",
     "text": [
      "2 1\n"
     ]
    }
   ],
   "source": [
    "dmax = 0\n",
    "dmin = 3\n",
    "for route in bus_routes.values():\n",
    "    c = route['dir_count']\n",
    "    if c > dmax:\n",
    "        dmax =c \n",
    "    if c < dmin:\n",
    "        dmin =c\n",
    "print(dmax,dmin)"
   ]
  }
 ],
 "metadata": {
  "kernelspec": {
   "display_name": "Python 3",
   "language": "python",
   "name": "python3"
  },
  "language_info": {
   "codemirror_mode": {
    "name": "ipython",
    "version": 3
   },
   "file_extension": ".py",
   "mimetype": "text/x-python",
   "name": "python",
   "nbconvert_exporter": "python",
   "pygments_lexer": "ipython3",
   "version": "3.7.3"
  }
 },
 "nbformat": 4,
 "nbformat_minor": 2
}
